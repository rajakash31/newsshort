{
 "cells": [
  {
   "cell_type": "code",
   "execution_count": 16,
   "metadata": {},
   "outputs": [],
   "source": [
    "from newsapi import NewsApiClient\n",
    "from datetime import datetime\n",
    "import pandas as pd"
   ]
  },
  {
   "cell_type": "code",
   "execution_count": 2,
   "metadata": {},
   "outputs": [],
   "source": [
    "newsapi = NewsApiClient(api_key='4f7a2da18c2a441da4b0bb13f3e4cce5')"
   ]
  },
  {
   "cell_type": "code",
   "execution_count": 3,
   "metadata": {},
   "outputs": [],
   "source": [
    "all_articles = newsapi.get_everything(q='',\n",
    "                                      sources='abc-news',\n",
    "                                      domains='abcnews.go.com',\n",
    "                                      from_param='2024-02-05',\n",
    "                                      to='2024-02-20',\n",
    "                                      language='en',\n",
    "                                      sort_by='relevancy',\n",
    "                                      page=1)"
   ]
  },
  {
   "cell_type": "code",
   "execution_count": 36,
   "metadata": {},
   "outputs": [
    {
     "data": {
      "text/plain": [
       "{'source': {'id': 'abc-news', 'name': 'ABC News'},\n",
       " 'author': 'Jon Haworth',\n",
       " 'title': 'US detects Russian aircraft flying in Alaska Air Defense Identification Zone',\n",
       " 'description': 'The North American Aerospace Defense Command (NORAD) has detected and tracked four Russian military aircraft operating in the Alaska Air Defense Identification Zone.',\n",
       " 'url': 'https://abcnews.go.com/US/us-detects-russian-aircraft-flying-alaska-air-defense/story?id=107014947',\n",
       " 'urlToImage': 'https://s.abcnews.com/images/US/abc_news_default_2000x2000_update_16x9_992.jpg',\n",
       " 'publishedAt': '2024-02-07T08:06:21Z',\n",
       " 'content': 'The North American Aerospace Defense Command (NORAD) has detected and tracked four Russian military aircraft operating in the Alaska Air Defense Identification Zone (ADIZ) on Tuesday, according to a … [+1795 chars]'}"
      ]
     },
     "execution_count": 36,
     "metadata": {},
     "output_type": "execute_result"
    }
   ],
   "source": [
    "articles = all_articles['articles']\n",
    "articles[1]"
   ]
  },
  {
   "cell_type": "code",
   "execution_count": 37,
   "metadata": {},
   "outputs": [
    {
     "data": {
      "text/html": [
       "<div>\n",
       "<style scoped>\n",
       "    .dataframe tbody tr th:only-of-type {\n",
       "        vertical-align: middle;\n",
       "    }\n",
       "\n",
       "    .dataframe tbody tr th {\n",
       "        vertical-align: top;\n",
       "    }\n",
       "\n",
       "    .dataframe thead th {\n",
       "        text-align: right;\n",
       "    }\n",
       "</style>\n",
       "<table border=\"1\" class=\"dataframe\">\n",
       "  <thead>\n",
       "    <tr style=\"text-align: right;\">\n",
       "      <th></th>\n",
       "      <th>author</th>\n",
       "      <th>title</th>\n",
       "      <th>description</th>\n",
       "      <th>url</th>\n",
       "      <th>urlToImage</th>\n",
       "      <th>publishedAt</th>\n",
       "      <th>content</th>\n",
       "      <th>source.id</th>\n",
       "      <th>source.name</th>\n",
       "    </tr>\n",
       "  </thead>\n",
       "  <tbody>\n",
       "    <tr>\n",
       "      <th>0</th>\n",
       "      <td>Mariam Khan, Allison Pecorin</td>\n",
       "      <td>Senate GOP blocks bipartisan national security...</td>\n",
       "      <td>Senate Majority Leader Chuck Schumer is planni...</td>\n",
       "      <td>https://abcnews.go.com/Politics/border-deal-do...</td>\n",
       "      <td>https://i.abcnewsfe.com/a/9faf7556-a9d5-4de8-a...</td>\n",
       "      <td>2024-02-07T22:11:32Z</td>\n",
       "      <td>As expected, the Senate's vote to advance the ...</td>\n",
       "      <td>abc-news</td>\n",
       "      <td>ABC News</td>\n",
       "    </tr>\n",
       "    <tr>\n",
       "      <th>1</th>\n",
       "      <td>Jon Haworth</td>\n",
       "      <td>US detects Russian aircraft flying in Alaska A...</td>\n",
       "      <td>The North American Aerospace Defense Command (...</td>\n",
       "      <td>https://abcnews.go.com/US/us-detects-russian-a...</td>\n",
       "      <td>https://s.abcnews.com/images/US/abc_news_defau...</td>\n",
       "      <td>2024-02-07T08:06:21Z</td>\n",
       "      <td>The North American Aerospace Defense Command (...</td>\n",
       "      <td>abc-news</td>\n",
       "      <td>ABC News</td>\n",
       "    </tr>\n",
       "    <tr>\n",
       "      <th>2</th>\n",
       "      <td>STEFANIE DAZIO Associated Press, JULIE WATSON ...</td>\n",
       "      <td>Punishing storm finally easing off in Southern...</td>\n",
       "      <td>A storm that parked itself over Southern Calif...</td>\n",
       "      <td>https://abcnews.go.com/US/wireStory/punishing-...</td>\n",
       "      <td>https://i.abcnewsfe.com/a/c1817b9b-6999-41b2-9...</td>\n",
       "      <td>2024-02-07T07:02:30Z</td>\n",
       "      <td>LOS ANGELES -- A storm that parked itself over...</td>\n",
       "      <td>abc-news</td>\n",
       "      <td>ABC News</td>\n",
       "    </tr>\n",
       "    <tr>\n",
       "      <th>3</th>\n",
       "      <td>Kevin Shalvey</td>\n",
       "      <td>Volcano erupts in Iceland for 3rd time in 2 mo...</td>\n",
       "      <td>A volcano began erupting in southwestern Icela...</td>\n",
       "      <td>https://abcnews.go.com/International/volcano-e...</td>\n",
       "      <td>https://i.abcnewsfe.com/a/6f7908e4-83f5-47f0-b...</td>\n",
       "      <td>2024-02-08T08:10:37Z</td>\n",
       "      <td>A volcano began erupting in southwestern Icela...</td>\n",
       "      <td>abc-news</td>\n",
       "      <td>ABC News</td>\n",
       "    </tr>\n",
       "    <tr>\n",
       "      <th>4</th>\n",
       "      <td>Riley Hoffman</td>\n",
       "      <td>Russia open to prisoner swap for Wall Street J...</td>\n",
       "      <td>In an interview released on Thursday, Russian ...</td>\n",
       "      <td>https://abcnews.go.com/US/russia-open-prisoner...</td>\n",
       "      <td>https://i.abcnewsfe.com/a/ab597da1-394c-4590-a...</td>\n",
       "      <td>2024-02-09T11:03:55Z</td>\n",
       "      <td>Russian President Vladimir Putin said Russia i...</td>\n",
       "      <td>abc-news</td>\n",
       "      <td>ABC News</td>\n",
       "    </tr>\n",
       "  </tbody>\n",
       "</table>\n",
       "</div>"
      ],
      "text/plain": [
       "                                              author  \\\n",
       "0                       Mariam Khan, Allison Pecorin   \n",
       "1                                        Jon Haworth   \n",
       "2  STEFANIE DAZIO Associated Press, JULIE WATSON ...   \n",
       "3                                      Kevin Shalvey   \n",
       "4                                      Riley Hoffman   \n",
       "\n",
       "                                               title  \\\n",
       "0  Senate GOP blocks bipartisan national security...   \n",
       "1  US detects Russian aircraft flying in Alaska A...   \n",
       "2  Punishing storm finally easing off in Southern...   \n",
       "3  Volcano erupts in Iceland for 3rd time in 2 mo...   \n",
       "4  Russia open to prisoner swap for Wall Street J...   \n",
       "\n",
       "                                         description  \\\n",
       "0  Senate Majority Leader Chuck Schumer is planni...   \n",
       "1  The North American Aerospace Defense Command (...   \n",
       "2  A storm that parked itself over Southern Calif...   \n",
       "3  A volcano began erupting in southwestern Icela...   \n",
       "4  In an interview released on Thursday, Russian ...   \n",
       "\n",
       "                                                 url  \\\n",
       "0  https://abcnews.go.com/Politics/border-deal-do...   \n",
       "1  https://abcnews.go.com/US/us-detects-russian-a...   \n",
       "2  https://abcnews.go.com/US/wireStory/punishing-...   \n",
       "3  https://abcnews.go.com/International/volcano-e...   \n",
       "4  https://abcnews.go.com/US/russia-open-prisoner...   \n",
       "\n",
       "                                          urlToImage           publishedAt  \\\n",
       "0  https://i.abcnewsfe.com/a/9faf7556-a9d5-4de8-a...  2024-02-07T22:11:32Z   \n",
       "1  https://s.abcnews.com/images/US/abc_news_defau...  2024-02-07T08:06:21Z   \n",
       "2  https://i.abcnewsfe.com/a/c1817b9b-6999-41b2-9...  2024-02-07T07:02:30Z   \n",
       "3  https://i.abcnewsfe.com/a/6f7908e4-83f5-47f0-b...  2024-02-08T08:10:37Z   \n",
       "4  https://i.abcnewsfe.com/a/ab597da1-394c-4590-a...  2024-02-09T11:03:55Z   \n",
       "\n",
       "                                             content source.id source.name  \n",
       "0  As expected, the Senate's vote to advance the ...  abc-news    ABC News  \n",
       "1  The North American Aerospace Defense Command (...  abc-news    ABC News  \n",
       "2  LOS ANGELES -- A storm that parked itself over...  abc-news    ABC News  \n",
       "3  A volcano began erupting in southwestern Icela...  abc-news    ABC News  \n",
       "4  Russian President Vladimir Putin said Russia i...  abc-news    ABC News  "
      ]
     },
     "execution_count": 37,
     "metadata": {},
     "output_type": "execute_result"
    }
   ],
   "source": [
    "df_articles = pd.json_normalize(articles)\n",
    "df_articles.head()"
   ]
  }
 ],
 "metadata": {
  "kernelspec": {
   "display_name": "Python 3",
   "language": "python",
   "name": "python3"
  },
  "language_info": {
   "codemirror_mode": {
    "name": "ipython",
    "version": 3
   },
   "file_extension": ".py",
   "mimetype": "text/x-python",
   "name": "python",
   "nbconvert_exporter": "python",
   "pygments_lexer": "ipython3",
   "version": "3.7.0"
  }
 },
 "nbformat": 4,
 "nbformat_minor": 2
}
